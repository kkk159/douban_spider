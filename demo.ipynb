{
 "metadata": {
  "language_info": {
   "codemirror_mode": {
    "name": "ipython",
    "version": 3
   },
   "file_extension": ".py",
   "mimetype": "text/x-python",
   "name": "python",
   "nbconvert_exporter": "python",
   "pygments_lexer": "ipython3",
   "version": "3.7.0-final"
  },
  "orig_nbformat": 2,
  "kernelspec": {
   "name": "Python 3.7.0 64-bit (virtualenv)",
   "display_name": "Python 3.7.0 64-bit (virtualenv)",
   "metadata": {
    "interpreter": {
     "hash": "a8f61be024eba58adef938c9aa1e29e02cb3dece83a5348b1a2dafd16a070453"
    }
   }
  }
 },
 "nbformat": 4,
 "nbformat_minor": 2,
 "cells": [
  {
   "cell_type": "code",
   "execution_count": 5,
   "metadata": {},
   "outputs": [
    {
     "output_type": "stream",
     "name": "stdout",
     "text": [
      "<mysql.connector.connection.MySQLConnection object at 0x000001561D3906A0>\n"
     ]
    }
   ],
   "source": [
    "### 来自runoob.com\n",
    "## 创建数据连接\n",
    "import mysql.connector as mc\n",
    "\n",
    "mydb = mc.connect(\n",
    "    host = 'localhost',\n",
    "    user = 'root',\n",
    "    passwd = 'DKY159754',\n",
    ")\n",
    "\n",
    "print(mydb)"
   ]
  },
  {
   "source": [
    "注意：如果你的 MySQL 是 8.0 版本，密码插件验证方式发生了变化，早期版本为 mysql_native_password，8.0 版本为 caching_sha2_password，所以需要做些改变：\n",
    "\n",
    "先修改 my.ini 配置：\n",
    "\n",
    "    [mysqld]\n",
    "    default_authentication_plugin=mysql_native_password\n",
    "\n",
    "然后在 mysql 下执行以下命令来修改密码：\n",
    "\n",
    "    ALTER USER 'root'@'localhost' IDENTIFIED WITH mysql_native_password BY '新密码';"
   ],
   "cell_type": "markdown",
   "metadata": {}
  },
  {
   "cell_type": "code",
   "execution_count": null,
   "metadata": {},
   "outputs": [],
   "source": []
  }
 ]
}